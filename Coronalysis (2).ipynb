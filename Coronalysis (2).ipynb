{
  "nbformat": 4,
  "nbformat_minor": 0,
  "metadata": {
    "colab": {
      "provenance": [],
      "collapsed_sections": []
    },
    "kernelspec": {
      "display_name": "Python 3",
      "name": "python3"
    },
    "language_info": {
      "name": "python"
    }
  },
  "cells": [
    {
      "cell_type": "code",
      "metadata": {
        "id": "RcVcSgbdOFy4"
      },
      "source": [
        "# importing the required libraries\n",
        "import pandas as pd\n",
        "\n",
        "# Visualisation libraries\n",
        "import matplotlib.pyplot as plt\n",
        "%matplotlib inline\n",
        "import seaborn as sns\n",
        "import datetime as dt\n",
        "import numpy as np"
      ],
      "execution_count": null,
      "outputs": []
    },
    {
      "cell_type": "code",
      "metadata": {
        "colab": {
          "base_uri": "https://localhost:8080/"
        },
        "id": "BKmFLg2CPU58",
        "outputId": "fe931dfd-b47a-4beb-bc12-2896ad10df84"
      },
      "source": [
        "from google.colab import drive\n",
        "drive.mount('/content/drive')"
      ],
      "execution_count": null,
      "outputs": [
        {
          "output_type": "stream",
          "text": [
            "Drive already mounted at /content/drive; to attempt to forcibly remount, call drive.mount(\"/content/drive\", force_remount=True).\n"
          ],
          "name": "stdout"
        }
      ]
    },
    {
      "cell_type": "code",
      "metadata": {
        "id": "Nu1Q2q8AOzMY"
      },
      "source": [
        "covid = pd.read_csv('/content/drive/My Drive/covid_19_india.csv', parse_dates=['Date'],dayfirst=True)"
      ],
      "execution_count": null,
      "outputs": []
    },
    {
      "cell_type": "code",
      "metadata": {
        "id": "wKzCgIR3Qccz",
        "colab": {
          "base_uri": "https://localhost:8080/",
          "height": 235
        },
        "outputId": "9d10a841-d051-4626-c857-3887374b3441"
      },
      "source": [
        "covid.head(6)"
      ],
      "execution_count": null,
      "outputs": [
        {
          "output_type": "execute_result",
          "data": {
            "text/html": [
              "<div>\n",
              "<style scoped>\n",
              "    .dataframe tbody tr th:only-of-type {\n",
              "        vertical-align: middle;\n",
              "    }\n",
              "\n",
              "    .dataframe tbody tr th {\n",
              "        vertical-align: top;\n",
              "    }\n",
              "\n",
              "    .dataframe thead th {\n",
              "        text-align: right;\n",
              "    }\n",
              "</style>\n",
              "<table border=\"1\" class=\"dataframe\">\n",
              "  <thead>\n",
              "    <tr style=\"text-align: right;\">\n",
              "      <th></th>\n",
              "      <th>Sno</th>\n",
              "      <th>Date</th>\n",
              "      <th>Time</th>\n",
              "      <th>State/UnionTerritory</th>\n",
              "      <th>ConfirmedIndianNational</th>\n",
              "      <th>ConfirmedForeignNational</th>\n",
              "      <th>Cured</th>\n",
              "      <th>Deaths</th>\n",
              "      <th>Confirmed</th>\n",
              "    </tr>\n",
              "  </thead>\n",
              "  <tbody>\n",
              "    <tr>\n",
              "      <th>0</th>\n",
              "      <td>1</td>\n",
              "      <td>2020-01-30</td>\n",
              "      <td>6:00 PM</td>\n",
              "      <td>Kerala</td>\n",
              "      <td>1</td>\n",
              "      <td>0</td>\n",
              "      <td>0</td>\n",
              "      <td>0</td>\n",
              "      <td>1</td>\n",
              "    </tr>\n",
              "    <tr>\n",
              "      <th>1</th>\n",
              "      <td>2</td>\n",
              "      <td>2020-01-31</td>\n",
              "      <td>6:00 PM</td>\n",
              "      <td>Kerala</td>\n",
              "      <td>1</td>\n",
              "      <td>0</td>\n",
              "      <td>0</td>\n",
              "      <td>0</td>\n",
              "      <td>1</td>\n",
              "    </tr>\n",
              "    <tr>\n",
              "      <th>2</th>\n",
              "      <td>3</td>\n",
              "      <td>2020-02-01</td>\n",
              "      <td>6:00 PM</td>\n",
              "      <td>Kerala</td>\n",
              "      <td>2</td>\n",
              "      <td>0</td>\n",
              "      <td>0</td>\n",
              "      <td>0</td>\n",
              "      <td>2</td>\n",
              "    </tr>\n",
              "    <tr>\n",
              "      <th>3</th>\n",
              "      <td>4</td>\n",
              "      <td>2020-02-02</td>\n",
              "      <td>6:00 PM</td>\n",
              "      <td>Kerala</td>\n",
              "      <td>3</td>\n",
              "      <td>0</td>\n",
              "      <td>0</td>\n",
              "      <td>0</td>\n",
              "      <td>3</td>\n",
              "    </tr>\n",
              "    <tr>\n",
              "      <th>4</th>\n",
              "      <td>5</td>\n",
              "      <td>2020-02-03</td>\n",
              "      <td>6:00 PM</td>\n",
              "      <td>Kerala</td>\n",
              "      <td>3</td>\n",
              "      <td>0</td>\n",
              "      <td>0</td>\n",
              "      <td>0</td>\n",
              "      <td>3</td>\n",
              "    </tr>\n",
              "    <tr>\n",
              "      <th>5</th>\n",
              "      <td>6</td>\n",
              "      <td>2020-02-04</td>\n",
              "      <td>6:00 PM</td>\n",
              "      <td>Kerala</td>\n",
              "      <td>3</td>\n",
              "      <td>0</td>\n",
              "      <td>0</td>\n",
              "      <td>0</td>\n",
              "      <td>3</td>\n",
              "    </tr>\n",
              "  </tbody>\n",
              "</table>\n",
              "</div>"
            ],
            "text/plain": [
              "   Sno       Date     Time  ... Cured Deaths Confirmed\n",
              "0    1 2020-01-30  6:00 PM  ...     0      0         1\n",
              "1    2 2020-01-31  6:00 PM  ...     0      0         1\n",
              "2    3 2020-02-01  6:00 PM  ...     0      0         2\n",
              "3    4 2020-02-02  6:00 PM  ...     0      0         3\n",
              "4    5 2020-02-03  6:00 PM  ...     0      0         3\n",
              "5    6 2020-02-04  6:00 PM  ...     0      0         3\n",
              "\n",
              "[6 rows x 9 columns]"
            ]
          },
          "metadata": {
            "tags": []
          },
          "execution_count": 7
        }
      ]
    },
    {
      "cell_type": "code",
      "metadata": {
        "id": "3K6gFV4mQlF-"
      },
      "source": [
        "covid = covid[['Date','State/UnionTerritory', 'Cured','Deaths', 'Confirmed']]\n",
        "\n",
        "covid.columns=['date', 'state', 'cured', 'deaths', 'confirmed']"
      ],
      "execution_count": null,
      "outputs": []
    },
    {
      "cell_type": "code",
      "metadata": {
        "id": "zUrOpIlyRrzE",
        "colab": {
          "base_uri": "https://localhost:8080/",
          "height": 204
        },
        "outputId": "bf053220-1d55-4e23-b8e5-26f5726302b0"
      },
      "source": [
        "covid.head()"
      ],
      "execution_count": null,
      "outputs": [
        {
          "output_type": "execute_result",
          "data": {
            "text/html": [
              "<div>\n",
              "<style scoped>\n",
              "    .dataframe tbody tr th:only-of-type {\n",
              "        vertical-align: middle;\n",
              "    }\n",
              "\n",
              "    .dataframe tbody tr th {\n",
              "        vertical-align: top;\n",
              "    }\n",
              "\n",
              "    .dataframe thead th {\n",
              "        text-align: right;\n",
              "    }\n",
              "</style>\n",
              "<table border=\"1\" class=\"dataframe\">\n",
              "  <thead>\n",
              "    <tr style=\"text-align: right;\">\n",
              "      <th></th>\n",
              "      <th>date</th>\n",
              "      <th>state</th>\n",
              "      <th>cured</th>\n",
              "      <th>deaths</th>\n",
              "      <th>confirmed</th>\n",
              "    </tr>\n",
              "  </thead>\n",
              "  <tbody>\n",
              "    <tr>\n",
              "      <th>0</th>\n",
              "      <td>2020-01-30</td>\n",
              "      <td>Kerala</td>\n",
              "      <td>0</td>\n",
              "      <td>0</td>\n",
              "      <td>1</td>\n",
              "    </tr>\n",
              "    <tr>\n",
              "      <th>1</th>\n",
              "      <td>2020-01-31</td>\n",
              "      <td>Kerala</td>\n",
              "      <td>0</td>\n",
              "      <td>0</td>\n",
              "      <td>1</td>\n",
              "    </tr>\n",
              "    <tr>\n",
              "      <th>2</th>\n",
              "      <td>2020-02-01</td>\n",
              "      <td>Kerala</td>\n",
              "      <td>0</td>\n",
              "      <td>0</td>\n",
              "      <td>2</td>\n",
              "    </tr>\n",
              "    <tr>\n",
              "      <th>3</th>\n",
              "      <td>2020-02-02</td>\n",
              "      <td>Kerala</td>\n",
              "      <td>0</td>\n",
              "      <td>0</td>\n",
              "      <td>3</td>\n",
              "    </tr>\n",
              "    <tr>\n",
              "      <th>4</th>\n",
              "      <td>2020-02-03</td>\n",
              "      <td>Kerala</td>\n",
              "      <td>0</td>\n",
              "      <td>0</td>\n",
              "      <td>3</td>\n",
              "    </tr>\n",
              "  </tbody>\n",
              "</table>\n",
              "</div>"
            ],
            "text/plain": [
              "        date   state  cured  deaths  confirmed\n",
              "0 2020-01-30  Kerala      0       0          1\n",
              "1 2020-01-31  Kerala      0       0          1\n",
              "2 2020-02-01  Kerala      0       0          2\n",
              "3 2020-02-02  Kerala      0       0          3\n",
              "4 2020-02-03  Kerala      0       0          3"
            ]
          },
          "metadata": {
            "tags": []
          },
          "execution_count": 9
        }
      ]
    },
    {
      "cell_type": "code",
      "metadata": {
        "id": "VT5PZ7ioRxOl",
        "colab": {
          "base_uri": "https://localhost:8080/",
          "height": 204
        },
        "outputId": "f699e161-acc3-428e-e8d5-d51fac0e2f96"
      },
      "source": [
        "covid.tail()"
      ],
      "execution_count": null,
      "outputs": [
        {
          "output_type": "execute_result",
          "data": {
            "text/html": [
              "<div>\n",
              "<style scoped>\n",
              "    .dataframe tbody tr th:only-of-type {\n",
              "        vertical-align: middle;\n",
              "    }\n",
              "\n",
              "    .dataframe tbody tr th {\n",
              "        vertical-align: top;\n",
              "    }\n",
              "\n",
              "    .dataframe thead th {\n",
              "        text-align: right;\n",
              "    }\n",
              "</style>\n",
              "<table border=\"1\" class=\"dataframe\">\n",
              "  <thead>\n",
              "    <tr style=\"text-align: right;\">\n",
              "      <th></th>\n",
              "      <th>date</th>\n",
              "      <th>state</th>\n",
              "      <th>cured</th>\n",
              "      <th>deaths</th>\n",
              "      <th>confirmed</th>\n",
              "    </tr>\n",
              "  </thead>\n",
              "  <tbody>\n",
              "    <tr>\n",
              "      <th>14505</th>\n",
              "      <td>2021-05-03</td>\n",
              "      <td>Telangana</td>\n",
              "      <td>373933</td>\n",
              "      <td>2417</td>\n",
              "      <td>456485</td>\n",
              "    </tr>\n",
              "    <tr>\n",
              "      <th>14506</th>\n",
              "      <td>2021-05-03</td>\n",
              "      <td>Tripura</td>\n",
              "      <td>33782</td>\n",
              "      <td>399</td>\n",
              "      <td>35723</td>\n",
              "    </tr>\n",
              "    <tr>\n",
              "      <th>14507</th>\n",
              "      <td>2021-05-03</td>\n",
              "      <td>Uttarakhand</td>\n",
              "      <td>135206</td>\n",
              "      <td>2802</td>\n",
              "      <td>191620</td>\n",
              "    </tr>\n",
              "    <tr>\n",
              "      <th>14508</th>\n",
              "      <td>2021-05-03</td>\n",
              "      <td>Uttar Pradesh</td>\n",
              "      <td>1004447</td>\n",
              "      <td>13162</td>\n",
              "      <td>1313361</td>\n",
              "    </tr>\n",
              "    <tr>\n",
              "      <th>14509</th>\n",
              "      <td>2021-05-03</td>\n",
              "      <td>West Bengal</td>\n",
              "      <td>733359</td>\n",
              "      <td>11539</td>\n",
              "      <td>863393</td>\n",
              "    </tr>\n",
              "  </tbody>\n",
              "</table>\n",
              "</div>"
            ],
            "text/plain": [
              "            date          state    cured  deaths  confirmed\n",
              "14505 2021-05-03      Telangana   373933    2417     456485\n",
              "14506 2021-05-03        Tripura    33782     399      35723\n",
              "14507 2021-05-03    Uttarakhand   135206    2802     191620\n",
              "14508 2021-05-03  Uttar Pradesh  1004447   13162    1313361\n",
              "14509 2021-05-03    West Bengal   733359   11539     863393"
            ]
          },
          "metadata": {
            "tags": []
          },
          "execution_count": 10
        }
      ]
    },
    {
      "cell_type": "code",
      "metadata": {
        "cellView": "code",
        "id": "zEb7CfEbR29U"
      },
      "source": [
        "today = covid[covid.date=='2021-05-03']"
      ],
      "execution_count": null,
      "outputs": []
    },
    {
      "cell_type": "code",
      "metadata": {
        "id": "Ll3rgBYVTJ4N"
      },
      "source": [
        "max_confirmed_cases=today.sort_values(by='confirmed',ascending=False)"
      ],
      "execution_count": null,
      "outputs": []
    },
    {
      "cell_type": "code",
      "metadata": {
        "id": "pyA-cZIHTLsg",
        "colab": {
          "base_uri": "https://localhost:8080/",
          "height": 669
        },
        "outputId": "3e4017ef-f71f-4a04-fb86-2beda8e8e584"
      },
      "source": [
        "max_confirmed_cases.head(20)"
      ],
      "execution_count": null,
      "outputs": [
        {
          "output_type": "execute_result",
          "data": {
            "text/html": [
              "<div>\n",
              "<style scoped>\n",
              "    .dataframe tbody tr th:only-of-type {\n",
              "        vertical-align: middle;\n",
              "    }\n",
              "\n",
              "    .dataframe tbody tr th {\n",
              "        vertical-align: top;\n",
              "    }\n",
              "\n",
              "    .dataframe thead th {\n",
              "        text-align: right;\n",
              "    }\n",
              "</style>\n",
              "<table border=\"1\" class=\"dataframe\">\n",
              "  <thead>\n",
              "    <tr style=\"text-align: right;\">\n",
              "      <th></th>\n",
              "      <th>date</th>\n",
              "      <th>state</th>\n",
              "      <th>cured</th>\n",
              "      <th>deaths</th>\n",
              "      <th>confirmed</th>\n",
              "    </tr>\n",
              "  </thead>\n",
              "  <tbody>\n",
              "    <tr>\n",
              "      <th>14494</th>\n",
              "      <td>2021-05-03</td>\n",
              "      <td>Maharashtra</td>\n",
              "      <td>3981658</td>\n",
              "      <td>70284</td>\n",
              "      <td>4722401</td>\n",
              "    </tr>\n",
              "    <tr>\n",
              "      <th>14490</th>\n",
              "      <td>2021-05-03</td>\n",
              "      <td>Kerala</td>\n",
              "      <td>1293590</td>\n",
              "      <td>5405</td>\n",
              "      <td>1638778</td>\n",
              "    </tr>\n",
              "    <tr>\n",
              "      <th>14489</th>\n",
              "      <td>2021-05-03</td>\n",
              "      <td>Karnataka</td>\n",
              "      <td>1164398</td>\n",
              "      <td>16011</td>\n",
              "      <td>1601865</td>\n",
              "    </tr>\n",
              "    <tr>\n",
              "      <th>14508</th>\n",
              "      <td>2021-05-03</td>\n",
              "      <td>Uttar Pradesh</td>\n",
              "      <td>1004447</td>\n",
              "      <td>13162</td>\n",
              "      <td>1313361</td>\n",
              "    </tr>\n",
              "    <tr>\n",
              "      <th>14504</th>\n",
              "      <td>2021-05-03</td>\n",
              "      <td>Tamil Nadu</td>\n",
              "      <td>1072322</td>\n",
              "      <td>14346</td>\n",
              "      <td>1207112</td>\n",
              "    </tr>\n",
              "    <tr>\n",
              "      <th>14482</th>\n",
              "      <td>2021-05-03</td>\n",
              "      <td>Delhi</td>\n",
              "      <td>1085690</td>\n",
              "      <td>16966</td>\n",
              "      <td>1194946</td>\n",
              "    </tr>\n",
              "    <tr>\n",
              "      <th>14475</th>\n",
              "      <td>2021-05-03</td>\n",
              "      <td>Andhra Pradesh</td>\n",
              "      <td>993708</td>\n",
              "      <td>8136</td>\n",
              "      <td>1145022</td>\n",
              "    </tr>\n",
              "    <tr>\n",
              "      <th>14509</th>\n",
              "      <td>2021-05-03</td>\n",
              "      <td>West Bengal</td>\n",
              "      <td>733359</td>\n",
              "      <td>11539</td>\n",
              "      <td>863393</td>\n",
              "    </tr>\n",
              "    <tr>\n",
              "      <th>14480</th>\n",
              "      <td>2021-05-03</td>\n",
              "      <td>Chhattisgarh</td>\n",
              "      <td>627051</td>\n",
              "      <td>9009</td>\n",
              "      <td>756427</td>\n",
              "    </tr>\n",
              "    <tr>\n",
              "      <th>14502</th>\n",
              "      <td>2021-05-03</td>\n",
              "      <td>Rajasthan</td>\n",
              "      <td>440215</td>\n",
              "      <td>4558</td>\n",
              "      <td>633951</td>\n",
              "    </tr>\n",
              "    <tr>\n",
              "      <th>14484</th>\n",
              "      <td>2021-05-03</td>\n",
              "      <td>Gujarat</td>\n",
              "      <td>440276</td>\n",
              "      <td>7508</td>\n",
              "      <td>594602</td>\n",
              "    </tr>\n",
              "    <tr>\n",
              "      <th>14493</th>\n",
              "      <td>2021-05-03</td>\n",
              "      <td>Madhya Pradesh</td>\n",
              "      <td>495367</td>\n",
              "      <td>5812</td>\n",
              "      <td>588368</td>\n",
              "    </tr>\n",
              "    <tr>\n",
              "      <th>14485</th>\n",
              "      <td>2021-05-03</td>\n",
              "      <td>Haryana</td>\n",
              "      <td>405132</td>\n",
              "      <td>4486</td>\n",
              "      <td>514888</td>\n",
              "    </tr>\n",
              "    <tr>\n",
              "      <th>14478</th>\n",
              "      <td>2021-05-03</td>\n",
              "      <td>Bihar</td>\n",
              "      <td>384955</td>\n",
              "      <td>2739</td>\n",
              "      <td>497640</td>\n",
              "    </tr>\n",
              "    <tr>\n",
              "      <th>14499</th>\n",
              "      <td>2021-05-03</td>\n",
              "      <td>Odisha</td>\n",
              "      <td>397575</td>\n",
              "      <td>2068</td>\n",
              "      <td>462622</td>\n",
              "    </tr>\n",
              "    <tr>\n",
              "      <th>14505</th>\n",
              "      <td>2021-05-03</td>\n",
              "      <td>Telangana</td>\n",
              "      <td>373933</td>\n",
              "      <td>2417</td>\n",
              "      <td>456485</td>\n",
              "    </tr>\n",
              "    <tr>\n",
              "      <th>14501</th>\n",
              "      <td>2021-05-03</td>\n",
              "      <td>Punjab</td>\n",
              "      <td>315845</td>\n",
              "      <td>9317</td>\n",
              "      <td>385270</td>\n",
              "    </tr>\n",
              "    <tr>\n",
              "      <th>14477</th>\n",
              "      <td>2021-05-03</td>\n",
              "      <td>Assam</td>\n",
              "      <td>231703</td>\n",
              "      <td>1360</td>\n",
              "      <td>258961</td>\n",
              "    </tr>\n",
              "    <tr>\n",
              "      <th>14488</th>\n",
              "      <td>2021-05-03</td>\n",
              "      <td>Jharkhand</td>\n",
              "      <td>183009</td>\n",
              "      <td>2944</td>\n",
              "      <td>244472</td>\n",
              "    </tr>\n",
              "    <tr>\n",
              "      <th>14507</th>\n",
              "      <td>2021-05-03</td>\n",
              "      <td>Uttarakhand</td>\n",
              "      <td>135206</td>\n",
              "      <td>2802</td>\n",
              "      <td>191620</td>\n",
              "    </tr>\n",
              "  </tbody>\n",
              "</table>\n",
              "</div>"
            ],
            "text/plain": [
              "            date           state    cured  deaths  confirmed\n",
              "14494 2021-05-03     Maharashtra  3981658   70284    4722401\n",
              "14490 2021-05-03          Kerala  1293590    5405    1638778\n",
              "14489 2021-05-03       Karnataka  1164398   16011    1601865\n",
              "14508 2021-05-03   Uttar Pradesh  1004447   13162    1313361\n",
              "14504 2021-05-03      Tamil Nadu  1072322   14346    1207112\n",
              "14482 2021-05-03           Delhi  1085690   16966    1194946\n",
              "14475 2021-05-03  Andhra Pradesh   993708    8136    1145022\n",
              "14509 2021-05-03     West Bengal   733359   11539     863393\n",
              "14480 2021-05-03    Chhattisgarh   627051    9009     756427\n",
              "14502 2021-05-03       Rajasthan   440215    4558     633951\n",
              "14484 2021-05-03         Gujarat   440276    7508     594602\n",
              "14493 2021-05-03  Madhya Pradesh   495367    5812     588368\n",
              "14485 2021-05-03         Haryana   405132    4486     514888\n",
              "14478 2021-05-03           Bihar   384955    2739     497640\n",
              "14499 2021-05-03          Odisha   397575    2068     462622\n",
              "14505 2021-05-03       Telangana   373933    2417     456485\n",
              "14501 2021-05-03          Punjab   315845    9317     385270\n",
              "14477 2021-05-03           Assam   231703    1360     258961\n",
              "14488 2021-05-03       Jharkhand   183009    2944     244472\n",
              "14507 2021-05-03     Uttarakhand   135206    2802     191620"
            ]
          },
          "metadata": {
            "tags": []
          },
          "execution_count": 13
        }
      ]
    },
    {
      "cell_type": "code",
      "metadata": {
        "id": "FHMo8pLJTKQv"
      },
      "source": [
        "top_states_confirmed = max_confirmed_cases[0:5]"
      ],
      "execution_count": null,
      "outputs": []
    },
    {
      "cell_type": "code",
      "metadata": {
        "id": "5YVQFEF1UmDQ",
        "colab": {
          "base_uri": "https://localhost:8080/",
          "height": 622
        },
        "outputId": "37147088-af49-436f-9d58-da7703b9c9fe"
      },
      "source": [
        "sns.set(rc={'figure.figsize':(15,10)})\n",
        "sns.barplot(x=\"state\",y=\"confirmed\",data=top_states_confirmed,hue=\"state\")\n",
        "plt.show()"
      ],
      "execution_count": null,
      "outputs": [
        {
          "output_type": "display_data",
          "data": {
            "image/png": "[encoded data removed]",
            "text/plain": [
              "<Figure size 1080x720 with 1 Axes>"
            ]
          },
          "metadata": {
            "tags": []
          }
        }
      ]
    },
    {
      "cell_type": "code",
      "metadata": {
        "id": "UI4Kr1YgVHrZ"
      },
      "source": [
        "max_death_cases=today.sort_values(by='deaths',ascending=False)"
      ],
      "execution_count": null,
      "outputs": []
    },
    {
      "cell_type": "code",
      "metadata": {
        "id": "QbdLKP3BV2r-",
        "colab": {
          "base_uri": "https://localhost:8080/",
          "height": 359
        },
        "outputId": "c9da291d-06e8-452f-ea8c-da592b6bea4d"
      },
      "source": [
        "max_death_cases.head(10)"
      ],
      "execution_count": null,
      "outputs": [
        {
          "output_type": "execute_result",
          "data": {
            "text/html": [
              "<div>\n",
              "<style scoped>\n",
              "    .dataframe tbody tr th:only-of-type {\n",
              "        vertical-align: middle;\n",
              "    }\n",
              "\n",
              "    .dataframe tbody tr th {\n",
              "        vertical-align: top;\n",
              "    }\n",
              "\n",
              "    .dataframe thead th {\n",
              "        text-align: right;\n",
              "    }\n",
              "</style>\n",
              "<table border=\"1\" class=\"dataframe\">\n",
              "  <thead>\n",
              "    <tr style=\"text-align: right;\">\n",
              "      <th></th>\n",
              "      <th>date</th>\n",
              "      <th>state</th>\n",
              "      <th>cured</th>\n",
              "      <th>deaths</th>\n",
              "      <th>confirmed</th>\n",
              "    </tr>\n",
              "  </thead>\n",
              "  <tbody>\n",
              "    <tr>\n",
              "      <th>14494</th>\n",
              "      <td>2021-05-03</td>\n",
              "      <td>Maharashtra</td>\n",
              "      <td>3981658</td>\n",
              "      <td>70284</td>\n",
              "      <td>4722401</td>\n",
              "    </tr>\n",
              "    <tr>\n",
              "      <th>14482</th>\n",
              "      <td>2021-05-03</td>\n",
              "      <td>Delhi</td>\n",
              "      <td>1085690</td>\n",
              "      <td>16966</td>\n",
              "      <td>1194946</td>\n",
              "    </tr>\n",
              "    <tr>\n",
              "      <th>14489</th>\n",
              "      <td>2021-05-03</td>\n",
              "      <td>Karnataka</td>\n",
              "      <td>1164398</td>\n",
              "      <td>16011</td>\n",
              "      <td>1601865</td>\n",
              "    </tr>\n",
              "    <tr>\n",
              "      <th>14504</th>\n",
              "      <td>2021-05-03</td>\n",
              "      <td>Tamil Nadu</td>\n",
              "      <td>1072322</td>\n",
              "      <td>14346</td>\n",
              "      <td>1207112</td>\n",
              "    </tr>\n",
              "    <tr>\n",
              "      <th>14508</th>\n",
              "      <td>2021-05-03</td>\n",
              "      <td>Uttar Pradesh</td>\n",
              "      <td>1004447</td>\n",
              "      <td>13162</td>\n",
              "      <td>1313361</td>\n",
              "    </tr>\n",
              "    <tr>\n",
              "      <th>14509</th>\n",
              "      <td>2021-05-03</td>\n",
              "      <td>West Bengal</td>\n",
              "      <td>733359</td>\n",
              "      <td>11539</td>\n",
              "      <td>863393</td>\n",
              "    </tr>\n",
              "    <tr>\n",
              "      <th>14501</th>\n",
              "      <td>2021-05-03</td>\n",
              "      <td>Punjab</td>\n",
              "      <td>315845</td>\n",
              "      <td>9317</td>\n",
              "      <td>385270</td>\n",
              "    </tr>\n",
              "    <tr>\n",
              "      <th>14480</th>\n",
              "      <td>2021-05-03</td>\n",
              "      <td>Chhattisgarh</td>\n",
              "      <td>627051</td>\n",
              "      <td>9009</td>\n",
              "      <td>756427</td>\n",
              "    </tr>\n",
              "    <tr>\n",
              "      <th>14475</th>\n",
              "      <td>2021-05-03</td>\n",
              "      <td>Andhra Pradesh</td>\n",
              "      <td>993708</td>\n",
              "      <td>8136</td>\n",
              "      <td>1145022</td>\n",
              "    </tr>\n",
              "    <tr>\n",
              "      <th>14484</th>\n",
              "      <td>2021-05-03</td>\n",
              "      <td>Gujarat</td>\n",
              "      <td>440276</td>\n",
              "      <td>7508</td>\n",
              "      <td>594602</td>\n",
              "    </tr>\n",
              "  </tbody>\n",
              "</table>\n",
              "</div>"
            ],
            "text/plain": [
              "            date           state    cured  deaths  confirmed\n",
              "14494 2021-05-03     Maharashtra  3981658   70284    4722401\n",
              "14482 2021-05-03           Delhi  1085690   16966    1194946\n",
              "14489 2021-05-03       Karnataka  1164398   16011    1601865\n",
              "14504 2021-05-03      Tamil Nadu  1072322   14346    1207112\n",
              "14508 2021-05-03   Uttar Pradesh  1004447   13162    1313361\n",
              "14509 2021-05-03     West Bengal   733359   11539     863393\n",
              "14501 2021-05-03          Punjab   315845    9317     385270\n",
              "14480 2021-05-03    Chhattisgarh   627051    9009     756427\n",
              "14475 2021-05-03  Andhra Pradesh   993708    8136    1145022\n",
              "14484 2021-05-03         Gujarat   440276    7508     594602"
            ]
          },
          "metadata": {
            "tags": []
          },
          "execution_count": 17
        }
      ]
    },
    {
      "cell_type": "code",
      "metadata": {
        "id": "6jP70KZ7WC2D"
      },
      "source": [
        "top_states_death = max_death_cases[0:10]"
      ],
      "execution_count": null,
      "outputs": []
    },
    {
      "cell_type": "code",
      "metadata": {
        "id": "sERFZa3UWNnf",
        "colab": {
          "base_uri": "https://localhost:8080/",
          "height": 611
        },
        "outputId": "f01f08c6-95c5-4123-bcf9-973da3cc209b"
      },
      "source": [
        "sns.set(rc={'figure.figsize':(15,10)})\n",
        "sns.barplot(x=\"state\",y=\"deaths\",data=top_states_death,hue=\"state\")\n",
        "plt.show()"
      ],
      "execution_count": null,
      "outputs": [
        {
          "output_type": "display_data",
          "data": {
            "image/png": "[encoded data removed]",
            "text/plain": [
              "<Figure size 1080x720 with 1 Axes>"
            ]
          },
          "metadata": {
            "tags": []
          }
        }
      ]
    },
    {
      "cell_type": "code",
      "metadata": {
        "id": "0uFoVv94Wg8v"
      },
      "source": [
        "max_cured_cases=today.sort_values(by='cured',ascending=False)"
      ],
      "execution_count": null,
      "outputs": []
    },
    {
      "cell_type": "code",
      "metadata": {
        "id": "dwiOk2aKXFb3",
        "colab": {
          "base_uri": "https://localhost:8080/",
          "height": 204
        },
        "outputId": "380b607d-af0b-4365-d29a-9bba4098b02c"
      },
      "source": [
        "max_cured_cases.head()"
      ],
      "execution_count": null,
      "outputs": [
        {
          "output_type": "execute_result",
          "data": {
            "text/html": [
              "<div>\n",
              "<style scoped>\n",
              "    .dataframe tbody tr th:only-of-type {\n",
              "        vertical-align: middle;\n",
              "    }\n",
              "\n",
              "    .dataframe tbody tr th {\n",
              "        vertical-align: top;\n",
              "    }\n",
              "\n",
              "    .dataframe thead th {\n",
              "        text-align: right;\n",
              "    }\n",
              "</style>\n",
              "<table border=\"1\" class=\"dataframe\">\n",
              "  <thead>\n",
              "    <tr style=\"text-align: right;\">\n",
              "      <th></th>\n",
              "      <th>date</th>\n",
              "      <th>state</th>\n",
              "      <th>cured</th>\n",
              "      <th>deaths</th>\n",
              "      <th>confirmed</th>\n",
              "    </tr>\n",
              "  </thead>\n",
              "  <tbody>\n",
              "    <tr>\n",
              "      <th>14494</th>\n",
              "      <td>2021-05-03</td>\n",
              "      <td>Maharashtra</td>\n",
              "      <td>3981658</td>\n",
              "      <td>70284</td>\n",
              "      <td>4722401</td>\n",
              "    </tr>\n",
              "    <tr>\n",
              "      <th>14490</th>\n",
              "      <td>2021-05-03</td>\n",
              "      <td>Kerala</td>\n",
              "      <td>1293590</td>\n",
              "      <td>5405</td>\n",
              "      <td>1638778</td>\n",
              "    </tr>\n",
              "    <tr>\n",
              "      <th>14489</th>\n",
              "      <td>2021-05-03</td>\n",
              "      <td>Karnataka</td>\n",
              "      <td>1164398</td>\n",
              "      <td>16011</td>\n",
              "      <td>1601865</td>\n",
              "    </tr>\n",
              "    <tr>\n",
              "      <th>14482</th>\n",
              "      <td>2021-05-03</td>\n",
              "      <td>Delhi</td>\n",
              "      <td>1085690</td>\n",
              "      <td>16966</td>\n",
              "      <td>1194946</td>\n",
              "    </tr>\n",
              "    <tr>\n",
              "      <th>14504</th>\n",
              "      <td>2021-05-03</td>\n",
              "      <td>Tamil Nadu</td>\n",
              "      <td>1072322</td>\n",
              "      <td>14346</td>\n",
              "      <td>1207112</td>\n",
              "    </tr>\n",
              "  </tbody>\n",
              "</table>\n",
              "</div>"
            ],
            "text/plain": [
              "            date        state    cured  deaths  confirmed\n",
              "14494 2021-05-03  Maharashtra  3981658   70284    4722401\n",
              "14490 2021-05-03       Kerala  1293590    5405    1638778\n",
              "14489 2021-05-03    Karnataka  1164398   16011    1601865\n",
              "14482 2021-05-03        Delhi  1085690   16966    1194946\n",
              "14504 2021-05-03   Tamil Nadu  1072322   14346    1207112"
            ]
          },
          "metadata": {
            "tags": []
          },
          "execution_count": 21
        }
      ]
    },
    {
      "cell_type": "code",
      "metadata": {
        "id": "0nHFhaTbXJe8"
      },
      "source": [
        "top_states_cured=max_cured_cases[0:5]"
      ],
      "execution_count": null,
      "outputs": []
    },
    {
      "cell_type": "code",
      "metadata": {
        "id": "1BFgv0R9XUPh",
        "colab": {
          "base_uri": "https://localhost:8080/",
          "height": 622
        },
        "outputId": "e983599a-ff21-4a90-ca70-063bf763a045"
      },
      "source": [
        "sns.set(rc={'figure.figsize':(15,10)})\n",
        "sns.barplot(x=\"state\",y=\"cured\",data=top_states_cured,hue=\"state\")\n",
        "plt.show()"
      ],
      "execution_count": null,
      "outputs": [
        {
          "output_type": "display_data",
          "data": {
            "image/png": "[encoded data removed]",
            "text/plain": [
              "<Figure size 1080x720 with 1 Axes>"
            ]
          },
          "metadata": {
            "tags": []
          }
        }
      ]
    },
    {
      "cell_type": "code",
      "metadata": {
        "id": "w00Eb-BDXdr5"
      },
      "source": [
        "maha = covid[covid.state==\"Maharashtra\"]"
      ],
      "execution_count": null,
      "outputs": []
    },
    {
      "cell_type": "code",
      "metadata": {
        "id": "Eu1AVnWfYMDs",
        "colab": {
          "base_uri": "https://localhost:8080/",
          "height": 204
        },
        "outputId": "1d01a034-4bfc-44e2-d75d-8abf45f1400c"
      },
      "source": [
        "maha.head()"
      ],
      "execution_count": null,
      "outputs": [
        {
          "output_type": "execute_result",
          "data": {
            "text/html": [
              "<div>\n",
              "<style scoped>\n",
              "    .dataframe tbody tr th:only-of-type {\n",
              "        vertical-align: middle;\n",
              "    }\n",
              "\n",
              "    .dataframe tbody tr th {\n",
              "        vertical-align: top;\n",
              "    }\n",
              "\n",
              "    .dataframe thead th {\n",
              "        text-align: right;\n",
              "    }\n",
              "</style>\n",
              "<table border=\"1\" class=\"dataframe\">\n",
              "  <thead>\n",
              "    <tr style=\"text-align: right;\">\n",
              "      <th></th>\n",
              "      <th>date</th>\n",
              "      <th>state</th>\n",
              "      <th>cured</th>\n",
              "      <th>deaths</th>\n",
              "      <th>confirmed</th>\n",
              "    </tr>\n",
              "  </thead>\n",
              "  <tbody>\n",
              "    <tr>\n",
              "      <th>76</th>\n",
              "      <td>2020-03-09</td>\n",
              "      <td>Maharashtra</td>\n",
              "      <td>0</td>\n",
              "      <td>0</td>\n",
              "      <td>2</td>\n",
              "    </tr>\n",
              "    <tr>\n",
              "      <th>91</th>\n",
              "      <td>2020-03-10</td>\n",
              "      <td>Maharashtra</td>\n",
              "      <td>0</td>\n",
              "      <td>0</td>\n",
              "      <td>5</td>\n",
              "    </tr>\n",
              "    <tr>\n",
              "      <th>97</th>\n",
              "      <td>2020-03-11</td>\n",
              "      <td>Maharashtra</td>\n",
              "      <td>0</td>\n",
              "      <td>0</td>\n",
              "      <td>2</td>\n",
              "    </tr>\n",
              "    <tr>\n",
              "      <th>120</th>\n",
              "      <td>2020-03-12</td>\n",
              "      <td>Maharashtra</td>\n",
              "      <td>0</td>\n",
              "      <td>0</td>\n",
              "      <td>11</td>\n",
              "    </tr>\n",
              "    <tr>\n",
              "      <th>133</th>\n",
              "      <td>2020-03-13</td>\n",
              "      <td>Maharashtra</td>\n",
              "      <td>0</td>\n",
              "      <td>0</td>\n",
              "      <td>14</td>\n",
              "    </tr>\n",
              "  </tbody>\n",
              "</table>\n",
              "</div>"
            ],
            "text/plain": [
              "          date        state  cured  deaths  confirmed\n",
              "76  2020-03-09  Maharashtra      0       0          2\n",
              "91  2020-03-10  Maharashtra      0       0          5\n",
              "97  2020-03-11  Maharashtra      0       0          2\n",
              "120 2020-03-12  Maharashtra      0       0         11\n",
              "133 2020-03-13  Maharashtra      0       0         14"
            ]
          },
          "metadata": {
            "tags": []
          },
          "execution_count": 25
        }
      ]
    },
    {
      "cell_type": "code",
      "metadata": {
        "id": "bB5HCtSMaQDN",
        "colab": {
          "base_uri": "https://localhost:8080/",
          "height": 204
        },
        "outputId": "c36579ca-7c4f-404f-94a0-892c7493486b"
      },
      "source": [
        "maha.tail()"
      ],
      "execution_count": null,
      "outputs": [
        {
          "output_type": "execute_result",
          "data": {
            "text/html": [
              "<div>\n",
              "<style scoped>\n",
              "    .dataframe tbody tr th:only-of-type {\n",
              "        vertical-align: middle;\n",
              "    }\n",
              "\n",
              "    .dataframe tbody tr th {\n",
              "        vertical-align: top;\n",
              "    }\n",
              "\n",
              "    .dataframe thead th {\n",
              "        text-align: right;\n",
              "    }\n",
              "</style>\n",
              "<table border=\"1\" class=\"dataframe\">\n",
              "  <thead>\n",
              "    <tr style=\"text-align: right;\">\n",
              "      <th></th>\n",
              "      <th>date</th>\n",
              "      <th>state</th>\n",
              "      <th>cured</th>\n",
              "      <th>deaths</th>\n",
              "      <th>confirmed</th>\n",
              "    </tr>\n",
              "  </thead>\n",
              "  <tbody>\n",
              "    <tr>\n",
              "      <th>14350</th>\n",
              "      <td>2021-04-29</td>\n",
              "      <td>Maharashtra</td>\n",
              "      <td>3730729</td>\n",
              "      <td>67214</td>\n",
              "      <td>4473394</td>\n",
              "    </tr>\n",
              "    <tr>\n",
              "      <th>14386</th>\n",
              "      <td>2021-04-30</td>\n",
              "      <td>Maharashtra</td>\n",
              "      <td>3799266</td>\n",
              "      <td>67985</td>\n",
              "      <td>4539553</td>\n",
              "    </tr>\n",
              "    <tr>\n",
              "      <th>14422</th>\n",
              "      <td>2021-05-01</td>\n",
              "      <td>Maharashtra</td>\n",
              "      <td>3868976</td>\n",
              "      <td>68813</td>\n",
              "      <td>4602472</td>\n",
              "    </tr>\n",
              "    <tr>\n",
              "      <th>14458</th>\n",
              "      <td>2021-05-02</td>\n",
              "      <td>Maharashtra</td>\n",
              "      <td>3930302</td>\n",
              "      <td>69615</td>\n",
              "      <td>4665754</td>\n",
              "    </tr>\n",
              "    <tr>\n",
              "      <th>14494</th>\n",
              "      <td>2021-05-03</td>\n",
              "      <td>Maharashtra</td>\n",
              "      <td>3981658</td>\n",
              "      <td>70284</td>\n",
              "      <td>4722401</td>\n",
              "    </tr>\n",
              "  </tbody>\n",
              "</table>\n",
              "</div>"
            ],
            "text/plain": [
              "            date        state    cured  deaths  confirmed\n",
              "14350 2021-04-29  Maharashtra  3730729   67214    4473394\n",
              "14386 2021-04-30  Maharashtra  3799266   67985    4539553\n",
              "14422 2021-05-01  Maharashtra  3868976   68813    4602472\n",
              "14458 2021-05-02  Maharashtra  3930302   69615    4665754\n",
              "14494 2021-05-03  Maharashtra  3981658   70284    4722401"
            ]
          },
          "metadata": {
            "tags": []
          },
          "execution_count": 26
        }
      ]
    },
    {
      "cell_type": "code",
      "metadata": {
        "id": "g31uXEJSaU89",
        "colab": {
          "base_uri": "https://localhost:8080/",
          "height": 513
        },
        "outputId": "d2b89a57-100e-40d1-bbf0-de9d83d334f7"
      },
      "source": [
        "sns.set(rc={'figure.figsize':(15,8)})\n",
        "sns.lineplot(x=\"date\",y=\"confirmed\",data=maha,color=\"g\")\n",
        "plt.show()"
      ],
      "execution_count": null,
      "outputs": [
        {
          "output_type": "display_data",
          "data": {
            "image/png": "[encoded data removed]",
            "text/plain": [
              "<Figure size 1080x576 with 1 Axes>"
            ]
          },
          "metadata": {
            "tags": []
          }
        }
      ]
    },
    {
      "cell_type": "code",
      "metadata": {
        "id": "MKhSdmMAa041",
        "colab": {
          "base_uri": "https://localhost:8080/",
          "height": 611
        },
        "outputId": "2e24336a-7e03-40d9-b571-f2520892d9f8"
      },
      "source": [
        "sns.set(rc={'figure.figsize':(15,10)})\n",
        "sns.lineplot(x=\"date\",y=\"deaths\",data=maha,color=\"r\")\n",
        "plt.show()"
      ],
      "execution_count": null,
      "outputs": [
        {
          "output_type": "display_data",
          "data": {
            "image/png": "[encoded data removed]",
            "text/plain": [
              "<Figure size 1080x720 with 1 Axes>"
            ]
          },
          "metadata": {
            "tags": []
          }
        }
      ]
    },
    {
      "cell_type": "code",
      "metadata": {
        "id": "Nxh1xOc0fMFZ"
      },
      "source": [
        "#tests"
      ],
      "execution_count": null,
      "outputs": []
    },
    {
      "cell_type": "code",
      "metadata": {
        "id": "PO1pAXoKffEu"
      },
      "source": [
        "tests = pd.read_csv('/content/drive/MyDrive/StatewiseTestingDetails.csv')"
      ],
      "execution_count": null,
      "outputs": []
    },
    {
      "cell_type": "code",
      "metadata": {
        "id": "t5qixu0MfvG6",
        "colab": {
          "base_uri": "https://localhost:8080/",
          "height": 204
        },
        "outputId": "0a58c551-2a24-48a6-9e7e-6af2f0252e5d"
      },
      "source": [
        "tests.head()"
      ],
      "execution_count": null,
      "outputs": [
        {
          "output_type": "execute_result",
          "data": {
            "text/html": [
              "<div>\n",
              "<style scoped>\n",
              "    .dataframe tbody tr th:only-of-type {\n",
              "        vertical-align: middle;\n",
              "    }\n",
              "\n",
              "    .dataframe tbody tr th {\n",
              "        vertical-align: top;\n",
              "    }\n",
              "\n",
              "    .dataframe thead th {\n",
              "        text-align: right;\n",
              "    }\n",
              "</style>\n",
              "<table border=\"1\" class=\"dataframe\">\n",
              "  <thead>\n",
              "    <tr style=\"text-align: right;\">\n",
              "      <th></th>\n",
              "      <th>Date</th>\n",
              "      <th>State</th>\n",
              "      <th>TotalSamples</th>\n",
              "      <th>Negative</th>\n",
              "      <th>Positive</th>\n",
              "    </tr>\n",
              "  </thead>\n",
              "  <tbody>\n",
              "    <tr>\n",
              "      <th>0</th>\n",
              "      <td>2020-04-17</td>\n",
              "      <td>Andaman and Nicobar Islands</td>\n",
              "      <td>1403.0</td>\n",
              "      <td>1210</td>\n",
              "      <td>12.0</td>\n",
              "    </tr>\n",
              "    <tr>\n",
              "      <th>1</th>\n",
              "      <td>2020-04-24</td>\n",
              "      <td>Andaman and Nicobar Islands</td>\n",
              "      <td>2679.0</td>\n",
              "      <td>NaN</td>\n",
              "      <td>27.0</td>\n",
              "    </tr>\n",
              "    <tr>\n",
              "      <th>2</th>\n",
              "      <td>2020-04-27</td>\n",
              "      <td>Andaman and Nicobar Islands</td>\n",
              "      <td>2848.0</td>\n",
              "      <td>NaN</td>\n",
              "      <td>33.0</td>\n",
              "    </tr>\n",
              "    <tr>\n",
              "      <th>3</th>\n",
              "      <td>2020-05-01</td>\n",
              "      <td>Andaman and Nicobar Islands</td>\n",
              "      <td>3754.0</td>\n",
              "      <td>NaN</td>\n",
              "      <td>33.0</td>\n",
              "    </tr>\n",
              "    <tr>\n",
              "      <th>4</th>\n",
              "      <td>2020-05-16</td>\n",
              "      <td>Andaman and Nicobar Islands</td>\n",
              "      <td>6677.0</td>\n",
              "      <td>NaN</td>\n",
              "      <td>33.0</td>\n",
              "    </tr>\n",
              "  </tbody>\n",
              "</table>\n",
              "</div>"
            ],
            "text/plain": [
              "         Date                        State  TotalSamples Negative  Positive\n",
              "0  2020-04-17  Andaman and Nicobar Islands        1403.0     1210      12.0\n",
              "1  2020-04-24  Andaman and Nicobar Islands        2679.0      NaN      27.0\n",
              "2  2020-04-27  Andaman and Nicobar Islands        2848.0      NaN      33.0\n",
              "3  2020-05-01  Andaman and Nicobar Islands        3754.0      NaN      33.0\n",
              "4  2020-05-16  Andaman and Nicobar Islands        6677.0      NaN      33.0"
            ]
          },
          "metadata": {
            "tags": []
          },
          "execution_count": 31
        }
      ]
    },
    {
      "cell_type": "code",
      "metadata": {
        "id": "gt2Z_WPcfx-x",
        "colab": {
          "base_uri": "https://localhost:8080/",
          "height": 204
        },
        "outputId": "75447ee6-f4d7-43d5-c5ae-07e73cb70ef1"
      },
      "source": [
        "tests.tail()"
      ],
      "execution_count": null,
      "outputs": [
        {
          "output_type": "execute_result",
          "data": {
            "text/html": [
              "<div>\n",
              "<style scoped>\n",
              "    .dataframe tbody tr th:only-of-type {\n",
              "        vertical-align: middle;\n",
              "    }\n",
              "\n",
              "    .dataframe tbody tr th {\n",
              "        vertical-align: top;\n",
              "    }\n",
              "\n",
              "    .dataframe thead th {\n",
              "        text-align: right;\n",
              "    }\n",
              "</style>\n",
              "<table border=\"1\" class=\"dataframe\">\n",
              "  <thead>\n",
              "    <tr style=\"text-align: right;\">\n",
              "      <th></th>\n",
              "      <th>Date</th>\n",
              "      <th>State</th>\n",
              "      <th>TotalSamples</th>\n",
              "      <th>Negative</th>\n",
              "      <th>Positive</th>\n",
              "    </tr>\n",
              "  </thead>\n",
              "  <tbody>\n",
              "    <tr>\n",
              "      <th>12844</th>\n",
              "      <td>2021-04-28</td>\n",
              "      <td>West Bengal</td>\n",
              "      <td>10325581.0</td>\n",
              "      <td>NaN</td>\n",
              "      <td>NaN</td>\n",
              "    </tr>\n",
              "    <tr>\n",
              "      <th>12845</th>\n",
              "      <td>2021-04-29</td>\n",
              "      <td>West Bengal</td>\n",
              "      <td>10379305.0</td>\n",
              "      <td>NaN</td>\n",
              "      <td>NaN</td>\n",
              "    </tr>\n",
              "    <tr>\n",
              "      <th>12846</th>\n",
              "      <td>2021-04-30</td>\n",
              "      <td>West Bengal</td>\n",
              "      <td>10432553.0</td>\n",
              "      <td>NaN</td>\n",
              "      <td>NaN</td>\n",
              "    </tr>\n",
              "    <tr>\n",
              "      <th>12847</th>\n",
              "      <td>2021-05-01</td>\n",
              "      <td>West Bengal</td>\n",
              "      <td>10488850.0</td>\n",
              "      <td>NaN</td>\n",
              "      <td>NaN</td>\n",
              "    </tr>\n",
              "    <tr>\n",
              "      <th>12848</th>\n",
              "      <td>2021-05-02</td>\n",
              "      <td>West Bengal</td>\n",
              "      <td>10545059.0</td>\n",
              "      <td>NaN</td>\n",
              "      <td>NaN</td>\n",
              "    </tr>\n",
              "  </tbody>\n",
              "</table>\n",
              "</div>"
            ],
            "text/plain": [
              "             Date        State  TotalSamples Negative  Positive\n",
              "12844  2021-04-28  West Bengal    10325581.0      NaN       NaN\n",
              "12845  2021-04-29  West Bengal    10379305.0      NaN       NaN\n",
              "12846  2021-04-30  West Bengal    10432553.0      NaN       NaN\n",
              "12847  2021-05-01  West Bengal    10488850.0      NaN       NaN\n",
              "12848  2021-05-02  West Bengal    10545059.0      NaN       NaN"
            ]
          },
          "metadata": {
            "tags": []
          },
          "execution_count": 32
        }
      ]
    },
    {
      "cell_type": "code",
      "metadata": {
        "id": "9uq7pIxkf0ol"
      },
      "source": [
        "from sklearn.model_selection import  train_test_split"
      ],
      "execution_count": null,
      "outputs": []
    },
    {
      "cell_type": "code",
      "metadata": {
        "id": "ip0Nu6Xqf7uE",
        "colab": {
          "base_uri": "https://localhost:8080/"
        },
        "outputId": "00925ed2-d523-4a19-aeb5-81edb86e84b6"
      },
      "source": [
        "maha['date']=maha['date'].map(dt.datetime.toordinal)"
      ],
      "execution_count": null,
      "outputs": [
        {
          "output_type": "stream",
          "text": [
            "/usr/local/lib/python3.7/dist-packages/ipykernel_launcher.py:1: SettingWithCopyWarning: \n",
            "A value is trying to be set on a copy of a slice from a DataFrame.\n",
            "Try using .loc[row_indexer,col_indexer] = value instead\n",
            "\n",
            "See the caveats in the documentation: https://pandas.pydata.org/pandas-docs/stable/user_guide/indexing.html#returning-a-view-versus-a-copy\n",
            "  \"\"\"Entry point for launching an IPython kernel.\n"
          ],
          "name": "stderr"
        }
      ]
    },
    {
      "cell_type": "code",
      "metadata": {
        "id": "XJ4y9oUkgOs1",
        "colab": {
          "base_uri": "https://localhost:8080/",
          "height": 204
        },
        "outputId": "d7a70719-3d71-4ac1-de9c-144796139050"
      },
      "source": [
        "maha.head()"
      ],
      "execution_count": null,
      "outputs": [
        {
          "output_type": "execute_result",
          "data": {
            "text/html": [
              "<div>\n",
              "<style scoped>\n",
              "    .dataframe tbody tr th:only-of-type {\n",
              "        vertical-align: middle;\n",
              "    }\n",
              "\n",
              "    .dataframe tbody tr th {\n",
              "        vertical-align: top;\n",
              "    }\n",
              "\n",
              "    .dataframe thead th {\n",
              "        text-align: right;\n",
              "    }\n",
              "</style>\n",
              "<table border=\"1\" class=\"dataframe\">\n",
              "  <thead>\n",
              "    <tr style=\"text-align: right;\">\n",
              "      <th></th>\n",
              "      <th>date</th>\n",
              "      <th>state</th>\n",
              "      <th>cured</th>\n",
              "      <th>deaths</th>\n",
              "      <th>confirmed</th>\n",
              "    </tr>\n",
              "  </thead>\n",
              "  <tbody>\n",
              "    <tr>\n",
              "      <th>76</th>\n",
              "      <td>737493</td>\n",
              "      <td>Maharashtra</td>\n",
              "      <td>0</td>\n",
              "      <td>0</td>\n",
              "      <td>2</td>\n",
              "    </tr>\n",
              "    <tr>\n",
              "      <th>91</th>\n",
              "      <td>737494</td>\n",
              "      <td>Maharashtra</td>\n",
              "      <td>0</td>\n",
              "      <td>0</td>\n",
              "      <td>5</td>\n",
              "    </tr>\n",
              "    <tr>\n",
              "      <th>97</th>\n",
              "      <td>737495</td>\n",
              "      <td>Maharashtra</td>\n",
              "      <td>0</td>\n",
              "      <td>0</td>\n",
              "      <td>2</td>\n",
              "    </tr>\n",
              "    <tr>\n",
              "      <th>120</th>\n",
              "      <td>737496</td>\n",
              "      <td>Maharashtra</td>\n",
              "      <td>0</td>\n",
              "      <td>0</td>\n",
              "      <td>11</td>\n",
              "    </tr>\n",
              "    <tr>\n",
              "      <th>133</th>\n",
              "      <td>737497</td>\n",
              "      <td>Maharashtra</td>\n",
              "      <td>0</td>\n",
              "      <td>0</td>\n",
              "      <td>14</td>\n",
              "    </tr>\n",
              "  </tbody>\n",
              "</table>\n",
              "</div>"
            ],
            "text/plain": [
              "       date        state  cured  deaths  confirmed\n",
              "76   737493  Maharashtra      0       0          2\n",
              "91   737494  Maharashtra      0       0          5\n",
              "97   737495  Maharashtra      0       0          2\n",
              "120  737496  Maharashtra      0       0         11\n",
              "133  737497  Maharashtra      0       0         14"
            ]
          },
          "metadata": {
            "tags": []
          },
          "execution_count": 35
        }
      ]
    },
    {
      "cell_type": "code",
      "metadata": {
        "id": "unxXiMIKgQnJ"
      },
      "source": [
        "x=maha['date']\n",
        "y=maha['confirmed']"
      ],
      "execution_count": null,
      "outputs": []
    },
    {
      "cell_type": "code",
      "metadata": {
        "id": "T3DhNUqUgZtx"
      },
      "source": [
        "x_train,x_test,y_train,y_test = train_test_split(x,y,test_size=0.3)"
      ],
      "execution_count": null,
      "outputs": []
    },
    {
      "cell_type": "code",
      "metadata": {
        "id": "aY8AJ6oIgpeC"
      },
      "source": [
        "from sklearn.ensemble import RandomForestRegressor"
      ],
      "execution_count": null,
      "outputs": []
    },
    {
      "cell_type": "code",
      "metadata": {
        "id": "B68nTnp5g0E9"
      },
      "source": [
        "rf= RandomForestRegressor()"
      ],
      "execution_count": null,
      "outputs": []
    },
    {
      "cell_type": "code",
      "metadata": {
        "id": "dqTfja2Qg3Vt",
        "colab": {
          "base_uri": "https://localhost:8080/"
        },
        "outputId": "ec2ef9ef-5786-4958-a770-d3581b0513c3"
      },
      "source": [
        "rf.fit(np.array(x_train).reshape(-1,1),np.array(y_train).reshape(-1,1))"
      ],
      "execution_count": null,
      "outputs": [
        {
          "output_type": "stream",
          "text": [
            "/usr/local/lib/python3.7/dist-packages/ipykernel_launcher.py:1: DataConversionWarning: A column-vector y was passed when a 1d array was expected. Please change the shape of y to (n_samples,), for example using ravel().\n",
            "  \"\"\"Entry point for launching an IPython kernel.\n"
          ],
          "name": "stderr"
        },
        {
          "output_type": "execute_result",
          "data": {
            "text/plain": [
              "RandomForestRegressor(bootstrap=True, ccp_alpha=0.0, criterion='mse',\n",
              "                      max_depth=None, max_features='auto', max_leaf_nodes=None,\n",
              "                      max_samples=None, min_impurity_decrease=0.0,\n",
              "                      min_impurity_split=None, min_samples_leaf=1,\n",
              "                      min_samples_split=2, min_weight_fraction_leaf=0.0,\n",
              "                      n_estimators=100, n_jobs=None, oob_score=False,\n",
              "                      random_state=None, verbose=0, warm_start=False)"
            ]
          },
          "metadata": {
            "tags": []
          },
          "execution_count": 40
        }
      ]
    },
    {
      "cell_type": "code",
      "metadata": {
        "id": "2mXy9Hw5hf9q",
        "colab": {
          "base_uri": "https://localhost:8080/"
        },
        "outputId": "897993c0-1c9e-4728-b81f-a84784e04581"
      },
      "source": [
        "# rf.predict([[737912]])\n",
        "rf.predict([[737925]]) "
      ],
      "execution_count": null,
      "outputs": [
        {
          "output_type": "execute_result",
          "data": {
            "text/plain": [
              "array([4574517.63])"
            ]
          },
          "metadata": {
            "tags": []
          },
          "execution_count": 41
        }
      ]
    },
    {
      "cell_type": "code",
      "metadata": {
        "id": "3OeuAwc_h2r5",
        "colab": {
          "base_uri": "https://localhost:8080/"
        },
        "outputId": "27363e6a-62e2-4169-e9a0-bea8806233e5"
      },
      "source": [
        "tf = pd.Timestamp(year = 2021, month = 5, day = 15)\n",
        "tf.toordinal()"
      ],
      "execution_count": null,
      "outputs": [
        {
          "output_type": "execute_result",
          "data": {
            "text/plain": [
              "737925"
            ]
          },
          "metadata": {
            "tags": []
          },
          "execution_count": 42
        }
      ]
    },
    {
      "cell_type": "markdown",
      "metadata": {
        "id": "PFMvnFVJsXcc"
      },
      "source": [
        "**We have come into this conclusion that On 21 May 2021 , Maharashtra must have more than 46 lakhs Confirmed Cases**"
      ]
    },
    {
      "cell_type": "code",
      "metadata": {
        "id": "ZRqgHhBWxJ0Q",
        "colab": {
          "base_uri": "https://localhost:8080/"
        },
        "outputId": "469008a4-147d-4268-e909-92be137f8c0f"
      },
      "source": [
        "x=maha['date']\n",
        "y=maha['deaths']\n",
        "print(x)\n",
        "print(y)"
      ],
      "execution_count": null,
      "outputs": [
        {
          "output_type": "stream",
          "text": [
            "[[737493]\n",
            " [737494]\n",
            " [737495]\n",
            " [737496]\n",
            " [737497]\n",
            " [737498]\n",
            " [737499]\n",
            " [737500]\n",
            " [737501]\n",
            " [737502]\n",
            " [737503]\n",
            " [737504]\n",
            " [737505]\n",
            " [737506]\n",
            " [737507]\n",
            " [737508]\n",
            " [737509]\n",
            " [737510]\n",
            " [737511]\n",
            " [737512]\n",
            " [737513]\n",
            " [737514]\n",
            " [737515]\n",
            " [737516]\n",
            " [737517]\n",
            " [737518]\n",
            " [737519]\n",
            " [737520]\n",
            " [737521]\n",
            " [737522]\n",
            " [737523]\n",
            " [737524]\n",
            " [737525]\n",
            " [737526]\n",
            " [737527]\n",
            " [737528]\n",
            " [737529]\n",
            " [737530]\n",
            " [737531]\n",
            " [737532]\n",
            " [737533]\n",
            " [737534]\n",
            " [737535]\n",
            " [737536]\n",
            " [737537]\n",
            " [737538]\n",
            " [737539]\n",
            " [737540]\n",
            " [737541]\n",
            " [737542]\n",
            " [737543]\n",
            " [737544]\n",
            " [737545]\n",
            " [737546]\n",
            " [737547]\n",
            " [737548]\n",
            " [737549]\n",
            " [737550]\n",
            " [737551]\n",
            " [737552]\n",
            " [737553]\n",
            " [737554]\n",
            " [737555]\n",
            " [737556]\n",
            " [737557]\n",
            " [737558]\n",
            " [737559]\n",
            " [737560]\n",
            " [737561]\n",
            " [737562]\n",
            " [737563]\n",
            " [737564]\n",
            " [737565]\n",
            " [737566]\n",
            " [737567]\n",
            " [737568]\n",
            " [737569]\n",
            " [737570]\n",
            " [737571]\n",
            " [737572]\n",
            " [737573]\n",
            " [737574]\n",
            " [737575]\n",
            " [737576]\n",
            " [737577]\n",
            " [737578]\n",
            " [737579]\n",
            " [737580]\n",
            " [737581]\n",
            " [737582]\n",
            " [737583]\n",
            " [737584]\n",
            " [737585]\n",
            " [737586]\n",
            " [737587]\n",
            " [737588]\n",
            " [737589]\n",
            " [737590]\n",
            " [737591]\n",
            " [737592]\n",
            " [737593]\n",
            " [737594]\n",
            " [737595]\n",
            " [737596]\n",
            " [737597]\n",
            " [737598]\n",
            " [737599]\n",
            " [737600]\n",
            " [737601]\n",
            " [737602]\n",
            " [737603]\n",
            " [737604]\n",
            " [737605]\n",
            " [737606]\n",
            " [737607]\n",
            " [737608]\n",
            " [737609]\n",
            " [737610]\n",
            " [737611]\n",
            " [737612]\n",
            " [737613]\n",
            " [737614]\n",
            " [737615]\n",
            " [737616]\n",
            " [737617]\n",
            " [737618]\n",
            " [737619]\n",
            " [737620]\n",
            " [737621]\n",
            " [737622]\n",
            " [737623]\n",
            " [737624]\n",
            " [737625]\n",
            " [737626]\n",
            " [737627]\n",
            " [737628]\n",
            " [737629]\n",
            " [737630]\n",
            " [737631]\n",
            " [737632]\n",
            " [737633]\n",
            " [737634]\n",
            " [737635]\n",
            " [737636]\n",
            " [737637]\n",
            " [737638]\n",
            " [737639]\n",
            " [737640]\n",
            " [737641]\n",
            " [737642]\n",
            " [737643]\n",
            " [737644]\n",
            " [737645]\n",
            " [737646]\n",
            " [737647]\n",
            " [737648]\n",
            " [737649]\n",
            " [737650]\n",
            " [737651]\n",
            " [737652]\n",
            " [737653]\n",
            " [737654]\n",
            " [737655]\n",
            " [737656]\n",
            " [737657]\n",
            " [737658]\n",
            " [737659]\n",
            " [737660]\n",
            " [737661]\n",
            " [737662]\n",
            " [737663]\n",
            " [737664]\n",
            " [737665]\n",
            " [737666]\n",
            " [737667]\n",
            " [737668]\n",
            " [737669]\n",
            " [737670]\n",
            " [737671]\n",
            " [737672]\n",
            " [737673]\n",
            " [737674]\n",
            " [737675]\n",
            " [737676]\n",
            " [737677]\n",
            " [737678]\n",
            " [737679]\n",
            " [737680]\n",
            " [737681]\n",
            " [737682]\n",
            " [737683]\n",
            " [737684]\n",
            " [737685]\n",
            " [737686]\n",
            " [737687]\n",
            " [737688]\n",
            " [737689]\n",
            " [737690]\n",
            " [737691]\n",
            " [737692]\n",
            " [737693]\n",
            " [737694]\n",
            " [737695]\n",
            " [737696]\n",
            " [737697]\n",
            " [737698]\n",
            " [737699]\n",
            " [737700]\n",
            " [737701]\n",
            " [737702]\n",
            " [737703]\n",
            " [737704]\n",
            " [737705]\n",
            " [737706]\n",
            " [737707]\n",
            " [737708]\n",
            " [737709]\n",
            " [737710]\n",
            " [737711]\n",
            " [737712]\n",
            " [737713]\n",
            " [737714]\n",
            " [737715]\n",
            " [737716]\n",
            " [737717]\n",
            " [737718]\n",
            " [737719]\n",
            " [737720]\n",
            " [737721]\n",
            " [737722]\n",
            " [737723]\n",
            " [737724]\n",
            " [737725]\n",
            " [737726]\n",
            " [737727]\n",
            " [737728]\n",
            " [737729]\n",
            " [737730]\n",
            " [737731]\n",
            " [737732]\n",
            " [737733]\n",
            " [737734]\n",
            " [737735]\n",
            " [737736]\n",
            " [737737]\n",
            " [737738]\n",
            " [737739]\n",
            " [737740]\n",
            " [737741]\n",
            " [737742]\n",
            " [737743]\n",
            " [737744]\n",
            " [737745]\n",
            " [737746]\n",
            " [737747]\n",
            " [737748]\n",
            " [737749]\n",
            " [737750]\n",
            " [737751]\n",
            " [737752]\n",
            " [737753]\n",
            " [737754]\n",
            " [737755]\n",
            " [737756]\n",
            " [737757]\n",
            " [737758]\n",
            " [737759]\n",
            " [737760]\n",
            " [737761]\n",
            " [737762]\n",
            " [737763]\n",
            " [737764]\n",
            " [737765]\n",
            " [737766]\n",
            " [737767]\n",
            " [737768]\n",
            " [737769]\n",
            " [737770]\n",
            " [737771]\n",
            " [737772]\n",
            " [737773]\n",
            " [737774]\n",
            " [737775]\n",
            " [737776]\n",
            " [737777]\n",
            " [737778]\n",
            " [737779]\n",
            " [737780]\n",
            " [737781]\n",
            " [737782]\n",
            " [737783]\n",
            " [737784]\n",
            " [737785]\n",
            " [737786]\n",
            " [737787]\n",
            " [737788]\n",
            " [737789]\n",
            " [737790]\n",
            " [737791]\n",
            " [737792]\n",
            " [737793]\n",
            " [737794]\n",
            " [737795]\n",
            " [737796]\n",
            " [737797]\n",
            " [737798]\n",
            " [737799]\n",
            " [737800]\n",
            " [737801]\n",
            " [737802]\n",
            " [737803]\n",
            " [737804]\n",
            " [737805]\n",
            " [737806]\n",
            " [737807]\n",
            " [737808]\n",
            " [737809]\n",
            " [737810]\n",
            " [737811]\n",
            " [737812]\n",
            " [737813]\n",
            " [737814]\n",
            " [737815]\n",
            " [737816]\n",
            " [737817]\n",
            " [737818]\n",
            " [737819]\n",
            " [737820]\n",
            " [737821]\n",
            " [737822]\n",
            " [737823]\n",
            " [737824]\n",
            " [737825]\n",
            " [737826]\n",
            " [737827]\n",
            " [737828]\n",
            " [737829]\n",
            " [737830]\n",
            " [737831]\n",
            " [737832]\n",
            " [737833]\n",
            " [737834]\n",
            " [737835]\n",
            " [737836]\n",
            " [737837]\n",
            " [737838]\n",
            " [737839]\n",
            " [737840]\n",
            " [737841]\n",
            " [737842]\n",
            " [737843]\n",
            " [737844]\n",
            " [737845]\n",
            " [737846]\n",
            " [737847]\n",
            " [737848]\n",
            " [737849]\n",
            " [737850]\n",
            " [737851]\n",
            " [737852]\n",
            " [737853]\n",
            " [737854]\n",
            " [737855]\n",
            " [737856]\n",
            " [737857]\n",
            " [737858]\n",
            " [737859]\n",
            " [737860]\n",
            " [737861]\n",
            " [737862]\n",
            " [737863]\n",
            " [737864]\n",
            " [737865]\n",
            " [737866]\n",
            " [737867]\n",
            " [737868]\n",
            " [737869]\n",
            " [737870]\n",
            " [737871]\n",
            " [737872]\n",
            " [737873]\n",
            " [737874]\n",
            " [737875]\n",
            " [737876]\n",
            " [737877]\n",
            " [737878]\n",
            " [737879]\n",
            " [737880]\n",
            " [737881]\n",
            " [737882]\n",
            " [737883]\n",
            " [737884]\n",
            " [737885]\n",
            " [737886]\n",
            " [737887]\n",
            " [737888]\n",
            " [737889]\n",
            " [737890]\n",
            " [737891]\n",
            " [737892]\n",
            " [737893]\n",
            " [737894]\n",
            " [737895]\n",
            " [737896]\n",
            " [737897]\n",
            " [737898]\n",
            " [737899]\n",
            " [737900]\n",
            " [737901]\n",
            " [737902]\n",
            " [737903]\n",
            " [737904]\n",
            " [737905]\n",
            " [737906]\n",
            " [737907]\n",
            " [737908]\n",
            " [737909]\n",
            " [737910]\n",
            " [737911]\n",
            " [737912]\n",
            " [737913]]\n",
            "76           0\n",
            "91           0\n",
            "97           0\n",
            "120          0\n",
            "133          0\n",
            "         ...  \n",
            "14350    67214\n",
            "14386    67985\n",
            "14422    68813\n",
            "14458    69615\n",
            "14494    70284\n",
            "Name: deaths, Length: 421, dtype: int64\n"
          ],
          "name": "stdout"
        }
      ]
    },
    {
      "cell_type": "code",
      "metadata": {
        "id": "lLc2PzwfxSml"
      },
      "source": [
        "x_train,x_test,y_train,y_test = train_test_split(x,y,test_size=0.3)"
      ],
      "execution_count": null,
      "outputs": []
    },
    {
      "cell_type": "code",
      "metadata": {
        "id": "caOjHn-oxWf6"
      },
      "source": [
        "from sklearn.ensemble import RandomForestRegressor"
      ],
      "execution_count": null,
      "outputs": []
    },
    {
      "cell_type": "code",
      "metadata": {
        "id": "wPu9uFWHxZoe"
      },
      "source": [
        "rf= RandomForestRegressor()"
      ],
      "execution_count": null,
      "outputs": []
    },
    {
      "cell_type": "code",
      "metadata": {
        "colab": {
          "base_uri": "https://localhost:8080/"
        },
        "id": "FG1-9Wc3xdCh",
        "outputId": "f7800cd9-9479-44fa-c6b0-86f982443885"
      },
      "source": [
        "rf.fit(np.array(x_train).reshape(-1,1),np.array(y_train).reshape(-1,1))"
      ],
      "execution_count": null,
      "outputs": [
        {
          "output_type": "stream",
          "text": [
            "/usr/local/lib/python3.7/dist-packages/ipykernel_launcher.py:1: DataConversionWarning: A column-vector y was passed when a 1d array was expected. Please change the shape of y to (n_samples,), for example using ravel().\n",
            "  \"\"\"Entry point for launching an IPython kernel.\n"
          ],
          "name": "stderr"
        },
        {
          "output_type": "execute_result",
          "data": {
            "text/plain": [
              "RandomForestRegressor(bootstrap=True, ccp_alpha=0.0, criterion='mse',\n",
              "                      max_depth=None, max_features='auto', max_leaf_nodes=None,\n",
              "                      max_samples=None, min_impurity_decrease=0.0,\n",
              "                      min_impurity_split=None, min_samples_leaf=1,\n",
              "                      min_samples_split=2, min_weight_fraction_leaf=0.0,\n",
              "                      n_estimators=100, n_jobs=None, oob_score=False,\n",
              "                      random_state=None, verbose=0, warm_start=False)"
            ]
          },
          "metadata": {
            "tags": []
          },
          "execution_count": 47
        }
      ]
    },
    {
      "cell_type": "code",
      "metadata": {
        "colab": {
          "base_uri": "https://localhost:8080/"
        },
        "id": "8sugsh4VxhQq",
        "outputId": "1ba84ce5-6fd1-44b0-c689-396e445ca5e7"
      },
      "source": [
        "rf.predict([[737925]]) "
      ],
      "execution_count": null,
      "outputs": [
        {
          "output_type": "execute_result",
          "data": {
            "text/plain": [
              "array([69536.98])"
            ]
          },
          "metadata": {
            "tags": []
          },
          "execution_count": 48
        }
      ]
    },
    {
      "cell_type": "markdown",
      "metadata": {
        "id": "60A0-_TyyOid"
      },
      "source": [
        "**We have predicted that Maharashtra Death Cases must arise to around 70 thousand on 15 May 2021**"
      ]
    }
  ]
}